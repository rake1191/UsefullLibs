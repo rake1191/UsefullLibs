{
 "cells": [
  {
   "cell_type": "code",
   "execution_count": 1,
   "metadata": {},
   "outputs": [
    {
     "name": "stdout",
     "output_type": "stream",
     "text": [
      "   sum(a)\n",
      "0     6.0\n"
     ]
    }
   ],
   "source": [
    "#https://duckdb.org/2021/05/14/sql-on-pandas.html\n",
    "import pandas as pd\n",
    "import duckdb\n",
    "\n",
    "mydf = pd.DataFrame({'a' : [1, 2, 3]})\n",
    "print(duckdb.query(\"SELECT SUM(a) FROM mydf\").to_df())"
   ]
  },
  {
   "cell_type": "code",
   "execution_count": null,
   "metadata": {},
   "outputs": [],
   "source": [
    "# When you run a query in SQL, DuckDB will look for Python variables whose name \n",
    "# matches the table names in your query and automatically start reading your Pandas DataFrames\n",
    "\n",
    "# DuckDB is capable of running queries in parallel directly on top of a \n",
    "# Pandas DataFrame (or on a Parquet/CSV file, or on an Arrow table, …)"
   ]
  },
  {
   "cell_type": "code",
   "execution_count": 4,
   "metadata": {},
   "outputs": [
    {
     "name": "stdout",
     "output_type": "stream",
     "text": [
      "Basic count\n",
      "This is just a count of the rows to show the size of the data\n",
      "Query took 0.010539770126342773 seconds\n",
      "   count_star()\n",
      "0       6001215\n"
     ]
    }
   ],
   "source": [
    "from urllib.request import urlretrieve\n",
    "import os\n",
    "from time import time\n",
    "def download_dataset():\n",
    "    url = \"https://github.com/cwida/duckdb-data/releases/download/v1.0/lineitemsf1.snappy.parquet\"\n",
    "    dst = \"lineitemsf1.snappy.parquet\"\n",
    "    if not os.path.exists(dst):\n",
    "        urlretrieve(url, dst)\n",
    "    return dst\n",
    "\n",
    "def run_timed_query(title, desc, query, connection):\n",
    "    print(title)\n",
    "    print(desc)\n",
    "    start = time()\n",
    "    results = connection.execute(query).fetchdf()\n",
    "    end = time()\n",
    "    print(f\"Query took {end - start} seconds\")\n",
    "    print(results)\n",
    "\n",
    "download_dataset()\n"
   ]
  },
  {
   "cell_type": "code",
   "execution_count": 9,
   "metadata": {},
   "outputs": [
    {
     "data": {
      "text/plain": [
       "'orders.parquet'"
      ]
     },
     "execution_count": 9,
     "metadata": {},
     "output_type": "execute_result"
    }
   ],
   "source": [
    "def download_dataset_2():\n",
    "    url = \"https://github.com/cwida/duckdb-data/releases/download/v1.0/orders.parquet\"\n",
    "    dst = \"orders.parquet\"\n",
    "    if not os.path.exists(dst):\n",
    "        urlretrieve(url, dst)\n",
    "    return dst\n",
    "\n",
    "download_dataset_2()"
   ]
  },
  {
   "cell_type": "code",
   "execution_count": 5,
   "metadata": {},
   "outputs": [
    {
     "name": "stdout",
     "output_type": "stream",
     "text": [
      "Basic count\n",
      "This is just a count of the rows to show the size of the data\n",
      "Query took 0.005545377731323242 seconds\n",
      "   count_star()\n",
      "0       6001215\n"
     ]
    }
   ],
   "source": [
    "connection = duckdb.connect()\n",
    "run_timed_query(\n",
    "    \"Basic count\",\n",
    "    \"This is just a count of the rows to show the size of the data\",\n",
    "    \"\"\"SELECT count(*) FROM 'lineitemsf1.snappy.parquet';\"\"\",\n",
    "    connection,\n",
    ")"
   ]
  },
  {
   "cell_type": "code",
   "execution_count": 6,
   "metadata": {},
   "outputs": [
    {
     "name": "stdout",
     "output_type": "stream",
     "text": [
      "Simple aggregation\n",
      "This query uses projection pushdown\n",
      "Query took 0.18692922592163086 seconds\n",
      "        revenue\n",
      "0  1.147509e+10\n"
     ]
    }
   ],
   "source": [
    "run_timed_query(\n",
    "    \"Simple aggregation\",\n",
    "    \"This query uses projection pushdown\",\n",
    "    \"\"\"SELECT sum(l_extendedprice * l_discount) AS revenue\n",
    "    FROM 'lineitemsf1.snappy.parquet';\"\"\",\n",
    "    connection,\n",
    ")"
   ]
  },
  {
   "cell_type": "code",
   "execution_count": 7,
   "metadata": {},
   "outputs": [
    {
     "name": "stdout",
     "output_type": "stream",
     "text": [
      "Filter pushdown\n",
      "This query reads very little from the file as it filters on more columns\n",
      "Query took 0.3641471862792969 seconds\n",
      "        revenue\n",
      "0  1.231411e+08\n"
     ]
    }
   ],
   "source": [
    "run_timed_query(\n",
    "    \"Filter pushdown\",\n",
    "    \"This query reads very little from the file as it filters on more columns\",\n",
    "    \"\"\"SELECT sum(l_extendedprice * l_discount) AS revenue\n",
    "    FROM\n",
    "        'lineitemsf1.snappy.parquet'\n",
    "    WHERE\n",
    "        l_shipdate >= CAST('1994-01-01' AS date)\n",
    "        AND l_shipdate < CAST('1995-01-01' AS date)\n",
    "        AND l_discount BETWEEN 0.05\n",
    "        AND 0.07\n",
    "        AND l_quantity < 24; \"\"\",\n",
    "    connection,\n",
    ")"
   ]
  },
  {
   "cell_type": "code",
   "execution_count": 8,
   "metadata": {},
   "outputs": [
    {
     "data": {
      "text/html": [
       "<div>\n",
       "<style scoped>\n",
       "    .dataframe tbody tr th:only-of-type {\n",
       "        vertical-align: middle;\n",
       "    }\n",
       "\n",
       "    .dataframe tbody tr th {\n",
       "        vertical-align: top;\n",
       "    }\n",
       "\n",
       "    .dataframe thead th {\n",
       "        text-align: right;\n",
       "    }\n",
       "</style>\n",
       "<table border=\"1\" class=\"dataframe\">\n",
       "  <thead>\n",
       "    <tr style=\"text-align: right;\">\n",
       "      <th></th>\n",
       "      <th>l_orderkey</th>\n",
       "      <th>l_partkey</th>\n",
       "      <th>l_suppkey</th>\n",
       "      <th>l_linenumber</th>\n",
       "      <th>l_quantity</th>\n",
       "      <th>l_extendedprice</th>\n",
       "      <th>l_discount</th>\n",
       "      <th>l_tax</th>\n",
       "      <th>l_returnflag</th>\n",
       "      <th>l_linestatus</th>\n",
       "      <th>l_shipdate</th>\n",
       "      <th>l_commitdate</th>\n",
       "      <th>l_receiptdate</th>\n",
       "      <th>l_shipinstruct</th>\n",
       "      <th>l_shipmode</th>\n",
       "      <th>l_comment</th>\n",
       "    </tr>\n",
       "  </thead>\n",
       "  <tbody>\n",
       "    <tr>\n",
       "      <th>0</th>\n",
       "      <td>1</td>\n",
       "      <td>155190</td>\n",
       "      <td>7706</td>\n",
       "      <td>1</td>\n",
       "      <td>17</td>\n",
       "      <td>21168.23</td>\n",
       "      <td>0.04</td>\n",
       "      <td>0.02</td>\n",
       "      <td>N</td>\n",
       "      <td>O</td>\n",
       "      <td>1996-03-13</td>\n",
       "      <td>1996-02-12</td>\n",
       "      <td>1996-03-22</td>\n",
       "      <td>DELIVER IN PERSON</td>\n",
       "      <td>TRUCK</td>\n",
       "      <td>egular courts above the</td>\n",
       "    </tr>\n",
       "    <tr>\n",
       "      <th>1</th>\n",
       "      <td>1</td>\n",
       "      <td>67310</td>\n",
       "      <td>7311</td>\n",
       "      <td>2</td>\n",
       "      <td>36</td>\n",
       "      <td>45983.16</td>\n",
       "      <td>0.09</td>\n",
       "      <td>0.06</td>\n",
       "      <td>N</td>\n",
       "      <td>O</td>\n",
       "      <td>1996-04-12</td>\n",
       "      <td>1996-02-28</td>\n",
       "      <td>1996-04-20</td>\n",
       "      <td>TAKE BACK RETURN</td>\n",
       "      <td>MAIL</td>\n",
       "      <td>ly final dependencies: slyly bold</td>\n",
       "    </tr>\n",
       "    <tr>\n",
       "      <th>2</th>\n",
       "      <td>1</td>\n",
       "      <td>63700</td>\n",
       "      <td>3701</td>\n",
       "      <td>3</td>\n",
       "      <td>8</td>\n",
       "      <td>13309.60</td>\n",
       "      <td>0.10</td>\n",
       "      <td>0.02</td>\n",
       "      <td>N</td>\n",
       "      <td>O</td>\n",
       "      <td>1996-01-29</td>\n",
       "      <td>1996-03-05</td>\n",
       "      <td>1996-01-31</td>\n",
       "      <td>TAKE BACK RETURN</td>\n",
       "      <td>REG AIR</td>\n",
       "      <td>riously. regular, express dep</td>\n",
       "    </tr>\n",
       "    <tr>\n",
       "      <th>3</th>\n",
       "      <td>1</td>\n",
       "      <td>2132</td>\n",
       "      <td>4633</td>\n",
       "      <td>4</td>\n",
       "      <td>28</td>\n",
       "      <td>28955.64</td>\n",
       "      <td>0.09</td>\n",
       "      <td>0.06</td>\n",
       "      <td>N</td>\n",
       "      <td>O</td>\n",
       "      <td>1996-04-21</td>\n",
       "      <td>1996-03-30</td>\n",
       "      <td>1996-05-16</td>\n",
       "      <td>NONE</td>\n",
       "      <td>AIR</td>\n",
       "      <td>lites. fluffily even de</td>\n",
       "    </tr>\n",
       "    <tr>\n",
       "      <th>4</th>\n",
       "      <td>1</td>\n",
       "      <td>24027</td>\n",
       "      <td>1534</td>\n",
       "      <td>5</td>\n",
       "      <td>24</td>\n",
       "      <td>22824.48</td>\n",
       "      <td>0.10</td>\n",
       "      <td>0.04</td>\n",
       "      <td>N</td>\n",
       "      <td>O</td>\n",
       "      <td>1996-03-30</td>\n",
       "      <td>1996-03-14</td>\n",
       "      <td>1996-04-01</td>\n",
       "      <td>NONE</td>\n",
       "      <td>FOB</td>\n",
       "      <td>pending foxes. slyly re</td>\n",
       "    </tr>\n",
       "    <tr>\n",
       "      <th>5</th>\n",
       "      <td>1</td>\n",
       "      <td>15635</td>\n",
       "      <td>638</td>\n",
       "      <td>6</td>\n",
       "      <td>32</td>\n",
       "      <td>49620.16</td>\n",
       "      <td>0.07</td>\n",
       "      <td>0.02</td>\n",
       "      <td>N</td>\n",
       "      <td>O</td>\n",
       "      <td>1996-01-30</td>\n",
       "      <td>1996-02-07</td>\n",
       "      <td>1996-02-03</td>\n",
       "      <td>DELIVER IN PERSON</td>\n",
       "      <td>MAIL</td>\n",
       "      <td>arefully slyly ex</td>\n",
       "    </tr>\n",
       "    <tr>\n",
       "      <th>6</th>\n",
       "      <td>2</td>\n",
       "      <td>106170</td>\n",
       "      <td>1191</td>\n",
       "      <td>1</td>\n",
       "      <td>38</td>\n",
       "      <td>44694.46</td>\n",
       "      <td>0.00</td>\n",
       "      <td>0.05</td>\n",
       "      <td>N</td>\n",
       "      <td>O</td>\n",
       "      <td>1997-01-28</td>\n",
       "      <td>1997-01-14</td>\n",
       "      <td>1997-02-02</td>\n",
       "      <td>TAKE BACK RETURN</td>\n",
       "      <td>RAIL</td>\n",
       "      <td>ven requests. deposits breach a</td>\n",
       "    </tr>\n",
       "    <tr>\n",
       "      <th>7</th>\n",
       "      <td>3</td>\n",
       "      <td>4297</td>\n",
       "      <td>1798</td>\n",
       "      <td>1</td>\n",
       "      <td>45</td>\n",
       "      <td>54058.05</td>\n",
       "      <td>0.06</td>\n",
       "      <td>0.00</td>\n",
       "      <td>R</td>\n",
       "      <td>F</td>\n",
       "      <td>1994-02-02</td>\n",
       "      <td>1994-01-04</td>\n",
       "      <td>1994-02-23</td>\n",
       "      <td>NONE</td>\n",
       "      <td>AIR</td>\n",
       "      <td>ongside of the furiously brave acco</td>\n",
       "    </tr>\n",
       "    <tr>\n",
       "      <th>8</th>\n",
       "      <td>3</td>\n",
       "      <td>19036</td>\n",
       "      <td>6540</td>\n",
       "      <td>2</td>\n",
       "      <td>49</td>\n",
       "      <td>46796.47</td>\n",
       "      <td>0.10</td>\n",
       "      <td>0.00</td>\n",
       "      <td>R</td>\n",
       "      <td>F</td>\n",
       "      <td>1993-11-09</td>\n",
       "      <td>1993-12-20</td>\n",
       "      <td>1993-11-24</td>\n",
       "      <td>TAKE BACK RETURN</td>\n",
       "      <td>RAIL</td>\n",
       "      <td>unusual accounts. eve</td>\n",
       "    </tr>\n",
       "    <tr>\n",
       "      <th>9</th>\n",
       "      <td>3</td>\n",
       "      <td>128449</td>\n",
       "      <td>3474</td>\n",
       "      <td>3</td>\n",
       "      <td>27</td>\n",
       "      <td>39890.88</td>\n",
       "      <td>0.06</td>\n",
       "      <td>0.07</td>\n",
       "      <td>A</td>\n",
       "      <td>F</td>\n",
       "      <td>1994-01-16</td>\n",
       "      <td>1993-11-22</td>\n",
       "      <td>1994-01-23</td>\n",
       "      <td>DELIVER IN PERSON</td>\n",
       "      <td>SHIP</td>\n",
       "      <td>nal foxes wake.</td>\n",
       "    </tr>\n",
       "  </tbody>\n",
       "</table>\n",
       "</div>"
      ],
      "text/plain": [
       "   l_orderkey  l_partkey  l_suppkey  l_linenumber  l_quantity  \\\n",
       "0           1     155190       7706             1          17   \n",
       "1           1      67310       7311             2          36   \n",
       "2           1      63700       3701             3           8   \n",
       "3           1       2132       4633             4          28   \n",
       "4           1      24027       1534             5          24   \n",
       "5           1      15635        638             6          32   \n",
       "6           2     106170       1191             1          38   \n",
       "7           3       4297       1798             1          45   \n",
       "8           3      19036       6540             2          49   \n",
       "9           3     128449       3474             3          27   \n",
       "\n",
       "   l_extendedprice  l_discount  l_tax l_returnflag l_linestatus  l_shipdate  \\\n",
       "0         21168.23        0.04   0.02            N            O  1996-03-13   \n",
       "1         45983.16        0.09   0.06            N            O  1996-04-12   \n",
       "2         13309.60        0.10   0.02            N            O  1996-01-29   \n",
       "3         28955.64        0.09   0.06            N            O  1996-04-21   \n",
       "4         22824.48        0.10   0.04            N            O  1996-03-30   \n",
       "5         49620.16        0.07   0.02            N            O  1996-01-30   \n",
       "6         44694.46        0.00   0.05            N            O  1997-01-28   \n",
       "7         54058.05        0.06   0.00            R            F  1994-02-02   \n",
       "8         46796.47        0.10   0.00            R            F  1993-11-09   \n",
       "9         39890.88        0.06   0.07            A            F  1994-01-16   \n",
       "\n",
       "  l_commitdate l_receiptdate     l_shipinstruct l_shipmode  \\\n",
       "0   1996-02-12    1996-03-22  DELIVER IN PERSON      TRUCK   \n",
       "1   1996-02-28    1996-04-20   TAKE BACK RETURN       MAIL   \n",
       "2   1996-03-05    1996-01-31   TAKE BACK RETURN    REG AIR   \n",
       "3   1996-03-30    1996-05-16               NONE        AIR   \n",
       "4   1996-03-14    1996-04-01               NONE        FOB   \n",
       "5   1996-02-07    1996-02-03  DELIVER IN PERSON       MAIL   \n",
       "6   1997-01-14    1997-02-02   TAKE BACK RETURN       RAIL   \n",
       "7   1994-01-04    1994-02-23               NONE        AIR   \n",
       "8   1993-12-20    1993-11-24   TAKE BACK RETURN       RAIL   \n",
       "9   1993-11-22    1994-01-23  DELIVER IN PERSON       SHIP   \n",
       "\n",
       "                             l_comment  \n",
       "0              egular courts above the  \n",
       "1   ly final dependencies: slyly bold   \n",
       "2        riously. regular, express dep  \n",
       "3              lites. fluffily even de  \n",
       "4              pending foxes. slyly re  \n",
       "5                    arefully slyly ex  \n",
       "6      ven requests. deposits breach a  \n",
       "7  ongside of the furiously brave acco  \n",
       "8                unusual accounts. eve  \n",
       "9                     nal foxes wake.   "
      ]
     },
     "execution_count": 8,
     "metadata": {},
     "output_type": "execute_result"
    }
   ],
   "source": [
    "connection.execute(\n",
    "    \"\"\"SELECT * FROM\n",
    "        'lineitemsf1.snappy.parquet'\n",
    "    limit 10\n",
    "    \"\"\"\n",
    ").fetchdf()"
   ]
  },
  {
   "cell_type": "code",
   "execution_count": 11,
   "metadata": {},
   "outputs": [],
   "source": [
    "lineitem = duckdb.query(\n",
    "    \"SELECT * FROM 'lineitemsf1.snappy.parquet'\"\n",
    ").to_df()\n",
    "orders = duckdb.query(\n",
    "    \"SELECT * FROM 'orders.parquet'\"\n",
    ").to_df()"
   ]
  },
  {
   "cell_type": "code",
   "execution_count": 12,
   "metadata": {},
   "outputs": [
    {
     "data": {
      "text/plain": [
       "pandas.core.frame.DataFrame"
      ]
     },
     "execution_count": 12,
     "metadata": {},
     "output_type": "execute_result"
    }
   ],
   "source": [
    "type(lineitem)"
   ]
  },
  {
   "cell_type": "code",
   "execution_count": 13,
   "metadata": {},
   "outputs": [
    {
     "data": {
      "text/html": [
       "<div>\n",
       "<style scoped>\n",
       "    .dataframe tbody tr th:only-of-type {\n",
       "        vertical-align: middle;\n",
       "    }\n",
       "\n",
       "    .dataframe tbody tr th {\n",
       "        vertical-align: top;\n",
       "    }\n",
       "\n",
       "    .dataframe thead th {\n",
       "        text-align: right;\n",
       "    }\n",
       "</style>\n",
       "<table border=\"1\" class=\"dataframe\">\n",
       "  <thead>\n",
       "    <tr style=\"text-align: right;\">\n",
       "      <th></th>\n",
       "      <th>l_returnflag</th>\n",
       "      <th>l_linestatus</th>\n",
       "      <th>sum(l_extendedprice)</th>\n",
       "      <th>min(l_extendedprice)</th>\n",
       "      <th>max(l_extendedprice)</th>\n",
       "      <th>avg(l_extendedprice)</th>\n",
       "    </tr>\n",
       "  </thead>\n",
       "  <tbody>\n",
       "    <tr>\n",
       "      <th>0</th>\n",
       "      <td>N</td>\n",
       "      <td>O</td>\n",
       "      <td>1.081147e+11</td>\n",
       "      <td>901.0</td>\n",
       "      <td>104749.5</td>\n",
       "      <td>38250.450307</td>\n",
       "    </tr>\n",
       "  </tbody>\n",
       "</table>\n",
       "</div>"
      ],
      "text/plain": [
       "  l_returnflag l_linestatus  sum(l_extendedprice)  min(l_extendedprice)  \\\n",
       "0            N            O          1.081147e+11                 901.0   \n",
       "\n",
       "   max(l_extendedprice)  avg(l_extendedprice)  \n",
       "0              104749.5          38250.450307  "
      ]
     },
     "execution_count": 13,
     "metadata": {},
     "output_type": "execute_result"
    }
   ],
   "source": [
    "connection.execute(\n",
    "    \"\"\"SELECT l_returnflag,\n",
    "       l_linestatus,\n",
    "       sum(l_extendedprice),\n",
    "       min(l_extendedprice),\n",
    "       max(l_extendedprice),\n",
    "       avg(l_extendedprice)\n",
    "FROM lineitem lineitem\n",
    "JOIN orders orders ON (l_orderkey=o_orderkey)\n",
    "WHERE l_shipdate <= DATE '1998-09-02'\n",
    "  AND o_orderstatus='O'\n",
    "GROUP BY l_returnflag,\n",
    "         l_linestatus\"\"\"\n",
    ").fetchdf()"
   ]
  }
 ],
 "metadata": {
  "kernelspec": {
   "display_name": "Python 3.7.1 64-bit",
   "language": "python",
   "name": "python3"
  },
  "language_info": {
   "codemirror_mode": {
    "name": "ipython",
    "version": 3
   },
   "file_extension": ".py",
   "mimetype": "text/x-python",
   "name": "python",
   "nbconvert_exporter": "python",
   "pygments_lexer": "ipython3",
   "version": "3.7.1"
  },
  "orig_nbformat": 4,
  "vscode": {
   "interpreter": {
    "hash": "52634da84371cba311ea128a5ea7cdc41ff074b781779e754b270ff9f8153cee"
   }
  }
 },
 "nbformat": 4,
 "nbformat_minor": 2
}
